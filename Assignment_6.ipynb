{
 "cells": [
  {
   "cell_type": "code",
   "execution_count": 1,
   "metadata": {},
   "outputs": [
    {
     "data": {
      "text/plain": [
       "\"\\n1. What are escape characters, and how do you use them?\\n\\nAns::\\nescape characters are special characters which tells compiler do perform \\nsome special kind of operations special characters are many types ex:'\\n',\\nt,'\\x08',etc.\\n\\nThese characters are commonly used in python print function ...\\n\""
      ]
     },
     "execution_count": 1,
     "metadata": {},
     "output_type": "execute_result"
    }
   ],
   "source": [
    "\"\"\"\n",
    "1. What are escape characters, and how do you use them?\n",
    "\n",
    "Ans::\n",
    "escape characters are special characters which tells compiler do perform \n",
    "some special kind of operations special characters are many types ex:'\\n',\n",
    "t,'\\b',etc.\n",
    "\n",
    "These characters are commonly used in python print function ...\n",
    "\"\"\" "
   ]
  },
  {
   "cell_type": "code",
   "execution_count": 2,
   "metadata": {},
   "outputs": [
    {
     "data": {
      "text/plain": [
       "\"\\n2. What do the escape characters n and t stand for?\\nAns::\\n\\n'\\n' ==> Next Line\\n'\\t'==>Tab\\n\""
      ]
     },
     "execution_count": 2,
     "metadata": {},
     "output_type": "execute_result"
    }
   ],
   "source": [
    "\"\"\"\n",
    "2. What do the escape characters n and t stand for?\n",
    "Ans::\n",
    "\n",
    "'\\n' ==> Next Line\n",
    "'\\t'==>Tab\n",
    "\"\"\""
   ]
  },
  {
   "cell_type": "code",
   "execution_count": 3,
   "metadata": {},
   "outputs": [
    {
     "data": {
      "text/plain": [
       "'\\n3. What is the way to include backslash characters in a string?\\n\\nAns::\\nusing either single inverted comma(\\'\\') or double inverted comma(\"\")\\n\\ninside these characters we can provide our special characters\\n'"
      ]
     },
     "execution_count": 3,
     "metadata": {},
     "output_type": "execute_result"
    }
   ],
   "source": [
    "\"\"\"\n",
    "3. What is the way to include backslash characters in a string?\n",
    "\n",
    "Ans::\n",
    "using either single quote('') or double quote(\"\")\n",
    "\n",
    "inside these characters we can provide our special characters\n",
    "\"\"\""
   ]
  },
  {
   "cell_type": "code",
   "execution_count": 4,
   "metadata": {},
   "outputs": [
    {
     "data": {
      "text/plain": [
       "'\\n4. The string \"Howl\\'s Moving Castle\" is a correct value. Why isn\\'t the single quote character in the word Howl\\'s not escaped a problem?\\nAns::\\nyes this is the correct way of writing of any statement However Howl\\'s is written\\ninside double quote which indicates it\\'s string value and in python inside\\na string value we can use sigle and double quotes so that\\'s why it\\'s not showing us any Problem\\n'"
      ]
     },
     "execution_count": 4,
     "metadata": {},
     "output_type": "execute_result"
    }
   ],
   "source": [
    "\"\"\"\n",
    "4. The string \"Howl's Moving Castle\" is a correct value. Why isn't the single quote character in the word Howl's not escaped a problem?\n",
    "Ans::\n",
    "yes this is the correct way of writing of any statement However Howl's is written\n",
    "inside double quote which indicates it's string value and in python inside\n",
    "a string value we can use sigle and double quotes so that's why it's not showing us any Problem\n",
    "\"\"\""
   ]
  },
  {
   "cell_type": "code",
   "execution_count": 5,
   "metadata": {},
   "outputs": [
    {
     "data": {
      "text/plain": [
       "\"\\n5. How do you write a string of newlines if you don't want to use the n character?\\nAns::\\nuse of print() many times will get us desired output\\n\\n\""
      ]
     },
     "execution_count": 5,
     "metadata": {},
     "output_type": "execute_result"
    }
   ],
   "source": [
    "\"\"\"\n",
    "5. How do you write a string of newlines if you don't want to use the n character?\n",
    "Ans::\n",
    "use of print() many times will get us desired output\n",
    "\n",
    "\"\"\""
   ]
  },
  {
   "cell_type": "code",
   "execution_count": 10,
   "metadata": {},
   "outputs": [
    {
     "data": {
      "text/plain": [
       "\"\\n6. What are the values of the given expressions?\\n'Hello, world!'[1]\\n'Hello, world!'[0:5]\\n'Hello, world!'[:5]\\n'Hello, world!'[3:]\\nAns::\\n\\ne,\\nHello,\\nHello,\\n'lo, world!'\\n\\n\""
      ]
     },
     "execution_count": 10,
     "metadata": {},
     "output_type": "execute_result"
    }
   ],
   "source": [
    "\"\"\"\n",
    "6. What are the values of the given expressions?\n",
    "'Hello, world!'[1]\n",
    "'Hello, world!'[0:5]\n",
    "'Hello, world!'[:5]\n",
    "'Hello, world!'[3:]\n",
    "Ans::\n",
    "\n",
    "e,\n",
    "Hello,\n",
    "Hello,\n",
    "'lo, world!'\n",
    "\n",
    "\"\"\""
   ]
  },
  {
   "cell_type": "code",
   "execution_count": 16,
   "metadata": {},
   "outputs": [
    {
     "data": {
      "text/plain": [
       "\"\\n7. What are the values of the following expressions?\\n'Hello'.upper()\\n'Hello'.upper().isupper()\\n'Hello'.upper().lower()\\n\\nAns::\\n'Hello'.upper()==> HELLO\\n'Hello'.upper().isupper()==> True\\n'Hello'.upper().lower()==>hello\\n\""
      ]
     },
     "execution_count": 16,
     "metadata": {},
     "output_type": "execute_result"
    }
   ],
   "source": [
    "\"\"\"\n",
    "7. What are the values of the following expressions?\n",
    "'Hello'.upper()\n",
    "'Hello'.upper().isupper()\n",
    "'Hello'.upper().lower()\n",
    "\n",
    "Ans::\n",
    "'Hello'.upper()==> HELLO\n",
    "'Hello'.upper().isupper()==> True\n",
    "'Hello'.upper().lower()==>hello\n",
    "\"\"\"\n"
   ]
  },
  {
   "cell_type": "code",
   "execution_count": 19,
   "metadata": {},
   "outputs": [
    {
     "data": {
      "text/plain": [
       "\"\\n8. What are the values of the following expressions?\\n'Remember, remember, the fifth of July.'.split()\\n'-'.join('There can only one.'.split())\\nAns::\\n['Remember,', 'remember,', 'the', 'fifth', 'of', 'July.']\\n\\n'There-can-only-one.'\\n\\n\""
      ]
     },
     "execution_count": 19,
     "metadata": {},
     "output_type": "execute_result"
    }
   ],
   "source": [
    "\"\"\"\n",
    "8. What are the values of the following expressions?\n",
    "'Remember, remember, the fifth of July.'.split()\n",
    "'-'.join('There can only one.'.split())\n",
    "Ans::\n",
    "['Remember,', 'remember,', 'the', 'fifth', 'of', 'July.']\n",
    "\n",
    "'There-can-only-one.'\n",
    "\n",
    "\"\"\""
   ]
  },
  {
   "cell_type": "code",
   "execution_count": 28,
   "metadata": {},
   "outputs": [
    {
     "data": {
      "text/plain": [
       "'\\n9. What are the methods for right-justifying, left-justifying, and centering a string?\\nAns::\\n\\nstr.rjust()\\nstr.ljust()\\nstr.center()\\n'"
      ]
     },
     "execution_count": 28,
     "metadata": {},
     "output_type": "execute_result"
    }
   ],
   "source": [
    "\"\"\"\n",
    "9. What are the methods for right-justifying, left-justifying, and centering a string?\n",
    "Ans::\n",
    "\n",
    "str.rjust()\n",
    "str.ljust()\n",
    "str.center()\n",
    "\"\"\"\n"
   ]
  },
  {
   "cell_type": "code",
   "execution_count": 31,
   "metadata": {},
   "outputs": [
    {
     "data": {
      "text/plain": [
       "'\\n10. What is the best way to remove whitespace characters from the start or end?\\n\\nAns::\\n\\nUse of strip() method will get you the desired result\\n\\n'"
      ]
     },
     "execution_count": 31,
     "metadata": {},
     "output_type": "execute_result"
    }
   ],
   "source": [
    "\"\"\"\n",
    "10. What is the best way to remove whitespace characters from the start or end?\n",
    "\n",
    "Ans::\n",
    "\n",
    "Use of strip() method will get you the desired result\n",
    "\n",
    "\"\"\""
   ]
  },
  {
   "cell_type": "code",
   "execution_count": null,
   "metadata": {},
   "outputs": [],
   "source": []
  },
  {
   "cell_type": "code",
   "execution_count": null,
   "metadata": {},
   "outputs": [],
   "source": []
  }
 ],
 "metadata": {
  "kernelspec": {
   "display_name": "Python 3",
   "language": "python",
   "name": "python3"
  },
  "language_info": {
   "codemirror_mode": {
    "name": "ipython",
    "version": 3
   },
   "file_extension": ".py",
   "mimetype": "text/x-python",
   "name": "python",
   "nbconvert_exporter": "python",
   "pygments_lexer": "ipython3",
   "version": "3.8.5"
  }
 },
 "nbformat": 4,
 "nbformat_minor": 4
}
