{
 "cells": [
  {
   "cell_type": "code",
   "execution_count": 15,
   "metadata": {},
   "outputs": [
    {
     "data": {
      "text/plain": [
       "\"1. In the below elements which of them are values or an expression? eg:- values can be integer or string and expressions will be mathematical operators.\\nAnswers \\n* ==> is a Matmatical(Expression) Operator used for  mainly multiply.\\n\\n 'hello'==> is a String (Value) covered into sigle underscore\\n\\n -87.8==> is a Floating (Value) \\n\\n - ==> is a Matmatical (Experssion) used for substraction\\n\\n / ==> is a Matmatical (Expression) used for divide\\n\\n+ ==> is also a Mathmatical (Expression) used for Addition\\n\\n 6 ==> is a Integer(value)\\n\\n\""
      ]
     },
     "execution_count": 15,
     "metadata": {},
     "output_type": "execute_result"
    }
   ],
   "source": [
    "\"\"\"1. In the below elements which of them are values or an expression? eg:- values can be integer or string and expressions will be mathematical operators.\n",
    "Answers \n",
    "* ==> is a Matmatical(Expression) Operator used for  mainly multiply.\n",
    "\n",
    " 'hello'==> is a String (Value) covered into sigle underscore\n",
    "\n",
    " -87.8==> is a Floating (Value) \n",
    "\n",
    " - ==> is a Matmatical (Experssion) used for substraction\n",
    "\n",
    " / ==> is a Matmatical (Expression) used for divide\n",
    "\n",
    "+ ==> is also a Mathmatical (Expression) used for Addition\n",
    "\n",
    " 6 ==> is a Integer(value)\n",
    "\n",
    "\"\"\""
   ]
  },
  {
   "cell_type": "code",
   "execution_count": 16,
   "metadata": {},
   "outputs": [
    {
     "data": {
      "text/plain": [
       "\"2. What is the difference between string and variable?\\n\\n Answer==> String is a Value type of a Variable covered by either single underscore or Double Undersco\\n          for Ex- a='Hello'. in the given Example as you can see a is a variable and hello is a string value of a variable a\\n Variable is a container which can hold diffrent types of values whether a integer ,string,list or any other type. it could be anything According to some Predefined Rules\\n    \\n   a='hello', b=12.3 . in the given examples a,b is a variale\\n   \\n   \""
      ]
     },
     "execution_count": 16,
     "metadata": {},
     "output_type": "execute_result"
    }
   ],
   "source": [
    "\"\"\"2. What is the difference between string and variable?\n",
    "\n",
    " Answer==> String is a Value type of a Variable covered by either single underscore or Double Undersco\n",
    "          for Ex- a='Hello'. in the given Example as you can see a is a variable and hello is a string value of a variable a\n",
    " Variable is a container which can hold diffrent types of values whether a integer ,string,list or any other type. it could be anything According to some Predefined Rules\n",
    "    \n",
    "   a='hello', b=12.3 . in the given examples a,b is a variale\n",
    "   \n",
    "   \"\"\""
   ]
  },
  {
   "cell_type": "code",
   "execution_count": 17,
   "metadata": {},
   "outputs": [
    {
     "data": {
      "text/plain": [
       "' 3. Describe three different data types.\\n\\n### 1==> Integer ==> is a kind of datatype which holds numerical value\\n### 2==> string==> is a kind of datatype which holds string value\\n### 3==> complex==> is a special kind of datatype which holds numerical value in the form of Real and imaginary part\\n\\n'"
      ]
     },
     "execution_count": 17,
     "metadata": {},
     "output_type": "execute_result"
    }
   ],
   "source": [
    "\"\"\" 3. Describe three different data types.\n",
    "\n",
    "### 1==> Integer ==> is a kind of datatype which holds numerical value\n",
    "### 2==> string==> is a kind of datatype which holds string value\n",
    "### 3==> complex==> is a special kind of datatype which holds numerical value in the form of Real and imaginary part\n",
    "\n",
    "\"\"\""
   ]
  },
  {
   "cell_type": "code",
   "execution_count": 2,
   "metadata": {},
   "outputs": [
    {
     "data": {
      "text/plain": [
       "'4. What is an expression made up of? What do all expressions do?\\n\\n## An Experssion is made up by some sort of operators it can be matmatical,Binary or any other types\\n\\n## Expressions perform operations based on operators and operands\\n\\n'"
      ]
     },
     "execution_count": 2,
     "metadata": {},
     "output_type": "execute_result"
    }
   ],
   "source": [
    "\"\"\"4. What is an expression made up of? What do all expressions do?\n",
    "\n",
    "## An Experssion is made up by some sort of operators it can be matmatical,Binary or any other types\n",
    "\n",
    "## Expressions perform operations based on operators and operands\n",
    "\n",
    "\"\"\""
   ]
  },
  {
   "cell_type": "code",
   "execution_count": 3,
   "metadata": {},
   "outputs": [
    {
     "data": {
      "text/plain": [
       "'5. This assignment statements, like spam = 10. What is the difference between an expression and a statement?\\n\\n==> statement having the fix value or more clear about the output depends on the scenario\\n\\n==> An expression can produce value or output after performing some sort of operations and Procedure apparently output based on Procedure.\\n'"
      ]
     },
     "execution_count": 3,
     "metadata": {},
     "output_type": "execute_result"
    }
   ],
   "source": [
    "\"\"\"5. This assignment statements, like spam = 10. What is the difference between an expression and a statement?\n",
    "\n",
    "Answers\n",
    "==> statement having the fix value or more clear about the output depends on the scenario\n",
    "\n",
    "==> An expression can produce value or output after performing some sort of operations and Procedure apparently output based on Procedure.\n",
    "\"\"\""
   ]
  },
  {
   "cell_type": "code",
   "execution_count": 5,
   "metadata": {},
   "outputs": [
    {
     "data": {
      "text/plain": [
       "\"6. After running the following code, what does the variable bacon contain?\\nbacon = 22\\nbacon + 1\\n\\nAnswers\\nthe value of variable bacon will be the same because after adding the value we didn't assigned to any other variable or the same variable\\n\""
      ]
     },
     "execution_count": 5,
     "metadata": {},
     "output_type": "execute_result"
    }
   ],
   "source": [
    "\"\"\"6. After running the following code, what does the variable bacon contain?\n",
    "bacon = 22\n",
    "bacon + 1\n",
    "\n",
    "Answers\n",
    "the value of variable bacon will be the same because after adding the value we didn't assigned to any other variable or the same variable\n",
    "\"\"\"\n"
   ]
  },
  {
   "cell_type": "code",
   "execution_count": 8,
   "metadata": {},
   "outputs": [
    {
     "data": {
      "text/plain": [
       "\" 7. What should the values of the following two terms be?\\n'spam' + 'spamspam'\\n'spam' * 3\\n\\nAnswers\\n\\nthe first term value will be ==> 'spamspamspam'\\n\\nthe second term value will be ==> 'spamspamspam'\\n\""
      ]
     },
     "execution_count": 8,
     "metadata": {},
     "output_type": "execute_result"
    }
   ],
   "source": [
    "\"\"\" 7. What should the values of the following two terms be?\n",
    "'spam' + 'spamspam'\n",
    "'spam' * 3\n",
    "\n",
    "Answers\n",
    "\n",
    "the first term value will be ==> 'spamspamspam'\n",
    "\n",
    "the second term value will be ==> 'spamspamspam'\n",
    "\"\"\"\n"
   ]
  },
  {
   "cell_type": "code",
   "execution_count": 9,
   "metadata": {},
   "outputs": [
    {
     "data": {
      "text/plain": [
       "\"\\n8. Why is eggs a valid variable name while 100 is invalid?\\n\\nAnswers:\\neggs are valid because python doesn't know what is eggs  so it can be used as a variable \\n\\n100 are invalid because it's integer type constant that means python know what is 100 try to rembember\\nwhen we started learning python we used to used it as a calculator \\n\\n\""
      ]
     },
     "execution_count": 9,
     "metadata": {},
     "output_type": "execute_result"
    }
   ],
   "source": [
    "\"\"\"\n",
    "8. Why is eggs a valid variable name while 100 is invalid?\n",
    "\n",
    "Answers:\n",
    "eggs are valid because python doesn't know what is eggs  so it can be used as a variable \n",
    "\n",
    "100 are invalid because it's integer type constant that means python know what is 100 try to rembember\n",
    "when we started learning python we used to used it as a calculator \n",
    "\n",
    "\"\"\""
   ]
  },
  {
   "cell_type": "code",
   "execution_count": 12,
   "metadata": {},
   "outputs": [
    {
     "data": {
      "text/plain": [
       "'\\n9. What three functions can be used to get the integer, floating-point number, or string version of a value?\\n\\nAnswers:\\nint() ==> integer value\\n\\nfloat()==> floating value\\n\\nstring()==> string value\\n\\nare the functions used to get value \\n'"
      ]
     },
     "execution_count": 12,
     "metadata": {},
     "output_type": "execute_result"
    }
   ],
   "source": [
    "\"\"\"\n",
    "9. What three functions can be used to get the integer, floating-point number, or string version of a value?\n",
    "\n",
    "Answers:\n",
    "int() ==> integer value\n",
    "\n",
    "float()==> floating value\n",
    "\n",
    "string()==> string value\n",
    "\n",
    "are the functions used to get value \n",
    "\"\"\"\n"
   ]
  },
  {
   "cell_type": "code",
   "execution_count": 13,
   "metadata": {},
   "outputs": [
    {
     "data": {
      "text/plain": [
       "\"\\n10. Why does this expression cause an error? How can you fix it?\\n'I have eaten ' + 99 + ' burritos.'\\n\\nAnswer:\\nthis above expression gives error because we are trying to add values of diffrent types one of the value is integer type\\nso that's why we are getting error\\n\\nhowever we can fix this error by changing 99 to string value so it will be added\\n\\nand will give output==> I have eaten99burritos\\n\""
      ]
     },
     "execution_count": 13,
     "metadata": {},
     "output_type": "execute_result"
    }
   ],
   "source": [
    "\"\"\"\n",
    "10. Why does this expression cause an error? How can you fix it?\n",
    "'I have eaten ' + 99 + ' burritos.'\n",
    "\n",
    "Answer:\n",
    "this above expression gives error because we are trying to add values of diffrent types one of the value is integer type\n",
    "so that's why we are getting error\n",
    "\n",
    "however we can fix this error by changing 99 to string value so it will be added\n",
    "\n",
    "and will give output==> I have eaten99burritos\n",
    "\"\"\""
   ]
  },
  {
   "cell_type": "code",
   "execution_count": null,
   "metadata": {},
   "outputs": [],
   "source": []
  },
  {
   "cell_type": "code",
   "execution_count": null,
   "metadata": {},
   "outputs": [],
   "source": []
  }
 ],
 "metadata": {
  "kernelspec": {
   "display_name": "Python 3",
   "language": "python",
   "name": "python3"
  },
  "language_info": {
   "codemirror_mode": {
    "name": "ipython",
    "version": 3
   },
   "file_extension": ".py",
   "mimetype": "text/x-python",
   "name": "python",
   "nbconvert_exporter": "python",
   "pygments_lexer": "ipython3",
   "version": "3.8.5"
  }
 },
 "nbformat": 4,
 "nbformat_minor": 4
}
