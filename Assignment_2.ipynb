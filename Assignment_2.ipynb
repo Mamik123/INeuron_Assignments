{
 "cells": [
  {
   "cell_type": "code",
   "execution_count": 1,
   "metadata": {},
   "outputs": [
    {
     "data": {
      "text/plain": [
       "'\\n1.What are the two values of the Boolean data type? How do you write them?\\n\\nAns:>: \\nTrue,False  are the 2 diffrent values in Boolean and writes in the Same Manner\\n'"
      ]
     },
     "execution_count": 1,
     "metadata": {},
     "output_type": "execute_result"
    }
   ],
   "source": [
    "\"\"\"\n",
    "1.What are the two values of the Boolean data type? How do you write them?\n",
    "\n",
    "Ans:>: \n",
    "True,False  are the 2 diffrent values in Boolean and writes in the Same Manner\n",
    "\"\"\"\n"
   ]
  },
  {
   "cell_type": "code",
   "execution_count": 2,
   "metadata": {},
   "outputs": [
    {
     "data": {
      "text/plain": [
       "'2. What are the three different types of Boolean operators?\\nAns:>:\\nthere are three Boolean Operators Named as : and,or,Not\\n'"
      ]
     },
     "execution_count": 2,
     "metadata": {},
     "output_type": "execute_result"
    }
   ],
   "source": [
    "\"\"\"2. What are the three different types of Boolean operators?\n",
    "Ans:>:\n",
    "there are three Boolean Operators Named as : and,or,Not\n",
    "\"\"\""
   ]
  },
  {
   "cell_type": "code",
   "execution_count": 11,
   "metadata": {},
   "outputs": [
    {
     "data": {
      "text/plain": [
       "\"\\n3. Make a list of each Boolean operator's truth tables (i.e. every possible combination of Boolean values for the operator and what it evaluate ).\\nAns:>:\\nl1_and = [1,1,0,0]\\nl1_or = [1,0,1,0]\\n\\n\\n\""
      ]
     },
     "execution_count": 11,
     "metadata": {},
     "output_type": "execute_result"
    }
   ],
   "source": [
    "\"\"\"\n",
    "3. Make a list of each Boolean operator's truth tables (i.e. every possible combination of Boolean values for the operator and what it evaluate ).\n",
    "Ans:>:\n",
    "l1_and = [1,1,0,0]\n",
    "l1_or = [1,0,1,0]\n",
    "\n",
    "\n",
    "\"\"\""
   ]
  },
  {
   "cell_type": "code",
   "execution_count": 10,
   "metadata": {},
   "outputs": [
    {
     "data": {
      "text/plain": [
       "'\\n4. What are the values of the following expressions?\\n(5 > 4) and (3 == 5) ==> False\\nnot (5 > 4) ==> False\\n(5 > 4) or (3 == 5) ==> True\\nnot ((5 > 4) or (3 == 5))==> False\\n(True and True) and (True == False)==> False\\n(not False) or (not True)==> True\\n'"
      ]
     },
     "execution_count": 10,
     "metadata": {},
     "output_type": "execute_result"
    }
   ],
   "source": [
    "\"\"\"\n",
    "4. What are the values of the following expressions?\n",
    "(5 > 4) and (3 == 5) ==> False\n",
    "not (5 > 4) ==> False\n",
    "(5 > 4) or (3 == 5) ==> True\n",
    "not ((5 > 4) or (3 == 5))==> False\n",
    "(True and True) and (True == False)==> False\n",
    "(not False) or (not True)==> True\n",
    "\"\"\""
   ]
  },
  {
   "cell_type": "code",
   "execution_count": 13,
   "metadata": {},
   "outputs": [
    {
     "data": {
      "text/plain": [
       "'\\n5. What are the six comparison operators?\\nAns:>:\\n\\nThe Six Comparison Operators Provides diffrent ways of Operating on Operands and are as follows\\n> :: Greater than\\n< :: Less Than\\n== : Equal To\\n!= :: Not Equal To\\n<= :: Less than equal to\\n>= :: Greater than equal to\\n'"
      ]
     },
     "execution_count": 13,
     "metadata": {},
     "output_type": "execute_result"
    }
   ],
   "source": [
    "\"\"\"\n",
    "5. What are the six comparison operators?\n",
    "Ans:>:\n",
    "\n",
    "The Six Comparison Operators Provides diffrent ways of Operating on Operands and are as follows\n",
    "> :: Greater than\n",
    "< :: Less Than\n",
    "== : Equal To\n",
    "!= :: Not Equal To\n",
    "<= :: Less than equal to\n",
    ">= :: Greater than equal to\n",
    "\"\"\""
   ]
  },
  {
   "cell_type": "code",
   "execution_count": 14,
   "metadata": {},
   "outputs": [
    {
     "data": {
      "text/plain": [
       "\"\\n6. How do you tell the difference between the equal to and assignment operators?Describe a condition and when you would use one.\\nAns::\\nt=4\\nt==5 ==> This Expression says is t is equal to 5 which is False(indicates equal operator)\\nt=5 ==> this Expression Assign 5 to t which had value of 4 so it's (Assignment Operator)\\n\""
      ]
     },
     "execution_count": 14,
     "metadata": {},
     "output_type": "execute_result"
    }
   ],
   "source": [
    "\"\"\"\n",
    "6. How do you tell the difference between the equal to and assignment operators?Describe a condition and when you would use one.\n",
    "Ans::\n",
    "t=4\n",
    "t==5 ==> This Expression says is t is equal to 5 which is False(indicates equal operator)\n",
    "t=5 ==> this Expression Assign 5 to t which had value of 4 so it's (Assignment Operator)\n",
    "\"\"\""
   ]
  },
  {
   "cell_type": "code",
   "execution_count": 19,
   "metadata": {},
   "outputs": [
    {
     "data": {
      "text/plain": [
       "\"7. Identify the three blocks in this code:\\nspam = 0\\n\\nif spam == 10:\\nprint('eggs')      {First Block}\\n\\nif spam > 5:\\nprint('bacon')   {Second Block}\\n\\nelse:\\nprint('ham')     {Third Block}\\nprint('spam')\\nprint('spam')\\n\\n\""
      ]
     },
     "execution_count": 19,
     "metadata": {},
     "output_type": "execute_result"
    }
   ],
   "source": [
    "\"\"\"7. Identify the three blocks in this code:\n",
    "spam = 0\n",
    "\n",
    "if spam == 10:\n",
    "print('eggs')      {First Block}\n",
    "\n",
    "if spam > 5:\n",
    "print('bacon')   {Second Block}\n",
    "\n",
    "else:\n",
    "print('ham')     {Third Block}\n",
    "print('spam')\n",
    "print('spam')\n",
    "\n",
    "\"\"\"\n"
   ]
  },
  {
   "cell_type": "code",
   "execution_count": 20,
   "metadata": {},
   "outputs": [
    {
     "data": {
      "text/plain": [
       "'\\n8. Write code that prints Hello if 1 is stored in spam, prints Howdy if 2 is stored in spam, and prints Greetings! if anything else is stored in spam.\\nspam=0\\nif spam=1:\\n    print(\"Hello\")\\nelif spam=2:\\n    print(\"Howdy\")\\nelse:\\n    print(\"Greetings!\")\\n\\n'"
      ]
     },
     "execution_count": 20,
     "metadata": {},
     "output_type": "execute_result"
    }
   ],
   "source": [
    "\"\"\"\n",
    "8. Write code that prints Hello if 1 is stored in spam, prints Howdy if 2 is stored in spam, and prints Greetings! if anything else is stored in spam.\n",
    "spam=0\n",
    "if spam=1:\n",
    "    print(\"Hello\")\n",
    "elif spam=2:\n",
    "    print(\"Howdy\")\n",
    "else:\n",
    "    print(\"Greetings!\")\n",
    "\n",
    "\"\"\"\n"
   ]
  },
  {
   "cell_type": "code",
   "execution_count": 21,
   "metadata": {},
   "outputs": [
    {
     "data": {
      "text/plain": [
       "'\\n9.If your programme is stuck in an endless loop, what keys you’ll press?\\n\\nAns::\\n\\nPersonally I think it depends which System you use\\n\\nand In the Jupyter we can Interupt the Kernal By pressing II twice of the time to stop kernal\\n\\n'"
      ]
     },
     "execution_count": 21,
     "metadata": {},
     "output_type": "execute_result"
    }
   ],
   "source": [
    "\"\"\"\n",
    "9.If your programme is stuck in an endless loop, what keys you’ll press?\n",
    "\n",
    "Ans::\n",
    "\n",
    "Personally I think it depends which System you use\n",
    "\n",
    "and In the Jupyter we can Interupt the Kernal By pressing II twice of the time to stop kernal\n",
    "\n",
    "\"\"\""
   ]
  },
  {
   "cell_type": "code",
   "execution_count": 22,
   "metadata": {},
   "outputs": [
    {
     "data": {
      "text/plain": [
       "'\\n10. How can you tell the difference between break and continue?\\nAns::\\n\\nBreak==> use for the Break the current flow of loop and can get you out of the loop\\nContinut==> will skip the current execution if the condition Matches and then will continue with the flow\\n'"
      ]
     },
     "execution_count": 22,
     "metadata": {},
     "output_type": "execute_result"
    }
   ],
   "source": [
    "\"\"\"\n",
    "10. How can you tell the difference between break and continue?\n",
    "Ans::\n",
    "\n",
    "Break==> use for the Break the current flow of loop and can get you out of the loop\n",
    "Continut==> will skip the current execution if the condition Matches and then will continue with the flow\n",
    "\"\"\""
   ]
  },
  {
   "cell_type": "code",
   "execution_count": 23,
   "metadata": {},
   "outputs": [
    {
     "data": {
      "text/plain": [
       "'\\n11. In a for loop, what is the difference between range(10), range(0, 10), and range(0, 10, 1)?\\nrange(10) ==> will produce 0,9 values \\nrange(0,10)==> will produce the same values however in this statement start and ending values are given\\nrange(0,10,1)==> will produce the same values but values are provided as per the full syntax of range \\n'"
      ]
     },
     "execution_count": 23,
     "metadata": {},
     "output_type": "execute_result"
    }
   ],
   "source": [
    "\"\"\"\n",
    "11. In a for loop, what is the difference between range(10), range(0, 10), and range(0, 10, 1)?\n",
    "range(10) ==> will produce 0,9 values \n",
    "range(0,10)==> will produce the same values however in this statement start and ending values are given\n",
    "range(0,10,1)==> will produce the same values but values are provided as per the full syntax of range \n",
    "\"\"\""
   ]
  },
  {
   "cell_type": "code",
   "execution_count": 25,
   "metadata": {},
   "outputs": [
    {
     "data": {
      "text/plain": [
       "'\\n12. Write a short program that prints the numbers 1 to 10 using a for loop. Then write an equivalent program that prints the numbers 1 to 10 using a while loop.\\n\\n>>using for loop==>\\nfor x in range(1,11):\\n    print(x)\\n    \\n>> While Loop\\n\\nx=1\\nwhile(x<11):\\n    print(x)\\n    x+=1\\n'"
      ]
     },
     "execution_count": 25,
     "metadata": {},
     "output_type": "execute_result"
    }
   ],
   "source": [
    "\"\"\"\n",
    "12. Write a short program that prints the numbers 1 to 10 using a for loop. Then write an equivalent program that prints the numbers 1 to 10 using a while loop.\n",
    "\n",
    ">>using for loop==>\n",
    "for x in range(1,11):\n",
    "    print(x)\n",
    "    \n",
    ">> While Loop\n",
    "\n",
    "x=1\n",
    "while(x<11):\n",
    "    print(x)\n",
    "    x+=1\n",
    "\"\"\""
   ]
  },
  {
   "cell_type": "code",
   "execution_count": 26,
   "metadata": {},
   "outputs": [
    {
     "data": {
      "text/plain": [
       "'\\n13. If you had a function named bacon() inside a module named spam, how would you call it after importing spam?\\n\\nAns::\\n\\nimport spam as sm\\nsm.bacon()\\n'"
      ]
     },
     "execution_count": 26,
     "metadata": {},
     "output_type": "execute_result"
    }
   ],
   "source": [
    "\"\"\"\n",
    "13. If you had a function named bacon() inside a module named spam, how would you call it after importing spam?\n",
    "\n",
    "Ans::\n",
    "\n",
    "import spam as sm\n",
    "sm.bacon()\n",
    "\"\"\"\n"
   ]
  }
 ],
 "metadata": {
  "kernelspec": {
   "display_name": "Python 3",
   "language": "python",
   "name": "python3"
  },
  "language_info": {
   "codemirror_mode": {
    "name": "ipython",
    "version": 3
   },
   "file_extension": ".py",
   "mimetype": "text/x-python",
   "name": "python",
   "nbconvert_exporter": "python",
   "pygments_lexer": "ipython3",
   "version": "3.8.5"
  }
 },
 "nbformat": 4,
 "nbformat_minor": 4
}
