{
 "cells": [
  {
   "cell_type": "code",
   "execution_count": null,
   "id": "ecb5cb3e",
   "metadata": {},
   "outputs": [],
   "source": [
    "1) What is the difference between enclosing a list comprehension in square brackets and parentheses?\n",
    "2) What is the relationship between generators and iterators?\n",
    "3) What are the signs that a function is a generator function?\n",
    "4) What is the purpose of a yield statement?\n",
    "5) What is the relationship between map calls and list comprehensions? Make a comparison and contrast between the two.\n"
   ]
  },
  {
   "cell_type": "code",
   "execution_count": 2,
   "id": "6a45d1dc",
   "metadata": {},
   "outputs": [
    {
     "data": {
      "text/plain": [
       "'\\n# 1) What is the difference between enclosing a list comprehension in square brackets and parentheses?\\n\\nAns:\\n\\nenclosing in the square brackets will return list and enclosing with parentheses will return tuple\\n'"
      ]
     },
     "execution_count": 2,
     "metadata": {},
     "output_type": "execute_result"
    }
   ],
   "source": [
    "\"\"\"\n",
    "# 1) What is the difference between enclosing a list comprehension in square brackets and parentheses?\n",
    "\n",
    "Ans:\n",
    "\n",
    "enclosing in the square brackets will return list and enclosing with parentheses will return tuple\n",
    "\"\"\""
   ]
  },
  {
   "cell_type": "code",
   "execution_count": 1,
   "id": "9335ab52",
   "metadata": {},
   "outputs": [
    {
     "data": {
      "text/plain": [
       "'\\n2) What is the relationship between generators and iterators?\\nAns::  with the help of Generators we can  create Iterators Object\\n\\n'"
      ]
     },
     "execution_count": 1,
     "metadata": {},
     "output_type": "execute_result"
    }
   ],
   "source": [
    "\"\"\"\n",
    "2) What is the relationship between generators and iterators?\n",
    "Ans::  with the help of Generators we can  create Iterators Object\n",
    "\n",
    "\"\"\""
   ]
  },
  {
   "cell_type": "code",
   "execution_count": null,
   "id": "3ff56d2b",
   "metadata": {},
   "outputs": [],
   "source": [
    "\"\"\"\n",
    "3) What are the signs that a function is a generator function?\n",
    "Ans::\n",
    "whenever there is a yield keyword used in any function that function consider as a Generator Function.\n",
    "\n",
    "\n",
    "\"\"\""
   ]
  },
  {
   "cell_type": "code",
   "execution_count": null,
   "id": "e17ed3d3",
   "metadata": {},
   "outputs": [],
   "source": [
    "\"\"\"\n",
    "4) What is the purpose of a yield statement?\n",
    "\n",
    "Ans:: yield keyword makes a function generator Function also it provides fast computation and also saves the memory .\n",
    "\n",
    "\n",
    "\"\"\""
   ]
  },
  {
   "cell_type": "code",
   "execution_count": null,
   "id": "d6660970",
   "metadata": {},
   "outputs": [],
   "source": [
    "\"\"\"\n",
    "5) What is the relationship between map calls and list comprehensions? Make a comparison and contrast between the two.\n",
    "\n",
    "ANS:: map() is a special Function in python which helps us to use the functionality on a list elements.\n",
    "\n",
    "list comprehensions is a way of writing a list in a single line along with some special functionality\n",
    "\n",
    "EX::  in the below example you will see the diffrence between them\n",
    "\n",
    "l = [3,2,5,7,8]\n",
    "def test(x):\n",
    "    return x//2\n",
    "\n",
    "# Map Function\n",
    "for x in map(test,l):\n",
    "    print(x)\n",
    "    \n",
    "#   List Comprehension\n",
    "k=[x//2 for x in range(10)]\n",
    "print(k)\n",
    "\n",
    "\"\"\""
   ]
  },
  {
   "cell_type": "code",
   "execution_count": null,
   "id": "6bde7859",
   "metadata": {},
   "outputs": [],
   "source": []
  }
 ],
 "metadata": {
  "kernelspec": {
   "display_name": "Python 3 (ipykernel)",
   "language": "python",
   "name": "python3"
  },
  "language_info": {
   "codemirror_mode": {
    "name": "ipython",
    "version": 3
   },
   "file_extension": ".py",
   "mimetype": "text/x-python",
   "name": "python",
   "nbconvert_exporter": "python",
   "pygments_lexer": "ipython3",
   "version": "3.8.5"
  }
 },
 "nbformat": 4,
 "nbformat_minor": 5
}
