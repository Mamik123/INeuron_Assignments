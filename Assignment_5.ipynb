{
 "cells": [
  {
   "cell_type": "code",
   "execution_count": 2,
   "metadata": {},
   "outputs": [
    {
     "data": {
      "text/plain": [
       "\"\\n1. What does an empty dictionary's code look like?\\n\\nAns::\\nd= {}\\n\""
      ]
     },
     "execution_count": 2,
     "metadata": {},
     "output_type": "execute_result"
    }
   ],
   "source": [
    "\"\"\"\n",
    "1. What does an empty dictionary's code look like?\n",
    "\n",
    "Ans::\n",
    "d= {}\n",
    "\"\"\"\n"
   ]
  },
  {
   "cell_type": "code",
   "execution_count": 5,
   "metadata": {},
   "outputs": [
    {
     "data": {
      "text/plain": [
       "\"\\n2. What is the value of a dictionary value with the key 'foo' and the value 42?\\n\\nAns::\\nd = {'foo':42}\\n\\nd.values()==> 42 will be the value of key 'foo'\\n\""
      ]
     },
     "execution_count": 5,
     "metadata": {},
     "output_type": "execute_result"
    }
   ],
   "source": [
    "\"\"\"\n",
    "2. What is the value of a dictionary value with the key 'foo' and the value 42?\n",
    "\n",
    "Ans::\n",
    "d = {'foo':42}\n",
    "\n",
    "d.values()==> 42 will be the value of key 'foo'\n",
    "\"\"\""
   ]
  },
  {
   "cell_type": "code",
   "execution_count": 6,
   "metadata": {},
   "outputs": [
    {
     "data": {
      "text/plain": [
       "'\\n3. What is the most significant distinction between a dictionary and a list?\\n\\nAns::\\n\\ndictionary holds the value in terms of keys ,values pairs where a list holds the values only\\n'"
      ]
     },
     "execution_count": 6,
     "metadata": {},
     "output_type": "execute_result"
    }
   ],
   "source": [
    "\"\"\"\n",
    "3. What is the most significant distinction between a dictionary and a list?\n",
    "\n",
    "Ans::\n",
    "\n",
    "dictionary holds the value in terms of keys ,values pairs where a list holds the values only\n",
    "\"\"\""
   ]
  },
  {
   "cell_type": "code",
   "execution_count": 8,
   "metadata": {},
   "outputs": [
    {
     "data": {
      "text/plain": [
       "\"4. What happens if you try to access spam['foo'] if spam is {'bar': 100}?\\nAns::\\n\\nit will show the key Error because there is not key such as 'foo'\\n\\nsoa = {'bar':100}\\nsoa['foo']\\n\""
      ]
     },
     "execution_count": 8,
     "metadata": {},
     "output_type": "execute_result"
    }
   ],
   "source": [
    "\"\"\"4. What happens if you try to access spam['foo'] if spam is {'bar': 100}?\n",
    "Ans::\n",
    "\n",
    "it will show the key Error because there is not key such as 'foo'\n",
    "\n",
    "soa = {'bar':100}\n",
    "soa['foo']\n",
    "\"\"\"\n"
   ]
  },
  {
   "cell_type": "code",
   "execution_count": 9,
   "metadata": {},
   "outputs": [
    {
     "data": {
      "text/plain": [
       "\"\\n5. If a dictionary is stored in spam, what is the difference between the expressions 'cat' in spam and 'cat' in spam.keys()?\\n\\nAns::\\nspam = {'cat':100}\\n\\nspam.keys()==> will return us all the keys which are available in the present dictionary\\n\\nspam==> spam is the varaible which holds dict type value\\n\\n'cat'==> is one of the key value in the dictionary\\n\""
      ]
     },
     "execution_count": 9,
     "metadata": {},
     "output_type": "execute_result"
    }
   ],
   "source": [
    "\"\"\"\n",
    "5. If a dictionary is stored in spam, what is the difference between the expressions 'cat' in spam and 'cat' in spam.keys()?\n",
    "\n",
    "Ans::\n",
    "spam = {'cat':100}\n",
    "\n",
    "spam.keys()==> will return us all the keys which are available in the present dictionary\n",
    "\n",
    "spam==> spam is the varaible which holds dict type value\n",
    "\n",
    "'cat'==> is one of the key value in the dictionary\n",
    "\"\"\"\n"
   ]
  },
  {
   "cell_type": "code",
   "execution_count": 10,
   "metadata": {},
   "outputs": [
    {
     "data": {
      "text/plain": [
       "\"\\n6. If a dictionary is stored in spam, what is the difference between the expressions 'cat' in spam and 'cat' in spam.values()?\\n\\nAns::\\nspam = {'Rat':100,'Sat':'Cat'}\\n\\nspam.values()==> will return the all the values associated with the keys\\n\\n'cat'==> is the one of the value in the given dictionary\\n\\n\""
      ]
     },
     "execution_count": 10,
     "metadata": {},
     "output_type": "execute_result"
    }
   ],
   "source": [
    "\"\"\"\n",
    "6. If a dictionary is stored in spam, what is the difference between the expressions 'cat' in spam and 'cat' in spam.values()?\n",
    "\n",
    "Ans::\n",
    "spam = {'Rat':100,'Sat':'Cat'}\n",
    "\n",
    "spam.values()==> will return the all the values associated with the keys\n",
    "\n",
    "'cat'==> is the one of the value in the given dictionary\n",
    "\n",
    "\"\"\""
   ]
  },
  {
   "cell_type": "code",
   "execution_count": 11,
   "metadata": {},
   "outputs": [
    {
     "data": {
      "text/plain": [
       "\" \\n7. What is a shortcut for the following code?\\nif 'color' not in spam:\\nspam['color'] = 'black'\\n\\nAns::\\nspam = {'color':'black'}\\n\\n\""
      ]
     },
     "execution_count": 11,
     "metadata": {},
     "output_type": "execute_result"
    }
   ],
   "source": [
    "\"\"\" \n",
    "7. What is a shortcut for the following code?\n",
    "if 'color' not in spam:\n",
    "spam['color'] = 'black'\n",
    "\n",
    "Ans::\n",
    "spam = {'color':'black'}\n",
    "\n",
    "\"\"\""
   ]
  },
  {
   "cell_type": "code",
   "execution_count": 13,
   "metadata": {},
   "outputs": [
    {
     "data": {
      "text/plain": [
       "dict_values([111, 200])"
      ]
     },
     "execution_count": 13,
     "metadata": {},
     "output_type": "execute_result"
    }
   ],
   "source": [
    "\"\"\"\n",
    "8. How do you \"pretty print\" dictionary values using which module and function?\n",
    "Ans::\n",
    "d = {'k1':111,'k2':200}\n",
    "d.values()\n",
    "\n",
    "\"\"\"\n"
   ]
  },
  {
   "cell_type": "code",
   "execution_count": null,
   "metadata": {},
   "outputs": [],
   "source": []
  }
 ],
 "metadata": {
  "kernelspec": {
   "display_name": "Python 3",
   "language": "python",
   "name": "python3"
  },
  "language_info": {
   "codemirror_mode": {
    "name": "ipython",
    "version": 3
   },
   "file_extension": ".py",
   "mimetype": "text/x-python",
   "name": "python",
   "nbconvert_exporter": "python",
   "pygments_lexer": "ipython3",
   "version": "3.8.5"
  }
 },
 "nbformat": 4,
 "nbformat_minor": 4
}
