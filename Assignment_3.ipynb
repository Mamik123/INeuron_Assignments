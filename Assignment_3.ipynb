{
 "cells": [
  {
   "cell_type": "code",
   "execution_count": 1,
   "metadata": {},
   "outputs": [
    {
     "data": {
      "text/plain": [
       "'\\n1. Why are functions advantageous to have in your programs?\\n\\nAns:: Helps us to acheive Reuseablity this is the advantage \\nfor example 1==> Function in python like a Friend who will Bring drinks on every certain day of the weekday all you have to do just put the code word\\n\\nmakes our program better in terms of understanding code as compared code  without function use\\n'"
      ]
     },
     "execution_count": 1,
     "metadata": {},
     "output_type": "execute_result"
    }
   ],
   "source": [
    "\"\"\"\n",
    "1. Why are functions advantageous to have in your programs?\n",
    "\n",
    "Ans:: Helps us to acheive Reuseablity this is the advantage \n",
    "for example 1==> Function in python like a Friend who will Bring drinks on every certain day of the weekday all you have to do just put the code word\n",
    "\n",
    "makes our program better in terms of understanding code as compared code  without function use\n",
    "\"\"\""
   ]
  },
  {
   "cell_type": "code",
   "execution_count": 3,
   "metadata": {},
   "outputs": [
    {
     "data": {
      "text/plain": [
       "\"\\n2. When does the code in a function run: when it's specified or when it's called?\\n\\nAns::\\n\\nwhen we call the function then only it runs otherwise it won't run, we have to pass the parameters \\nwhich were given at the time of creation of funciton\\n\""
      ]
     },
     "execution_count": 3,
     "metadata": {},
     "output_type": "execute_result"
    }
   ],
   "source": [
    "\"\"\"\n",
    "2. When does the code in a function run: when it's specified or when it's called?\n",
    "\n",
    "Ans::\n",
    "\n",
    "when we call the function then only it runs otherwise it won't run, we have to pass the parameters \n",
    "which were given at the time of creation of funciton\n",
    "\"\"\""
   ]
  },
  {
   "cell_type": "code",
   "execution_count": 4,
   "metadata": {},
   "outputs": [
    {
     "data": {
      "text/plain": [
       "'\\n3. What statement creates a function?\\n\\ndef fun1(par1,par2): ==> this statement will create a function named as fun1(par1,par1)\\n'"
      ]
     },
     "execution_count": 4,
     "metadata": {},
     "output_type": "execute_result"
    }
   ],
   "source": [
    "\"\"\"\n",
    "3. What statement creates a function?\n",
    "\n",
    "def fun1(par1,par2): ==> this statement will create a function named as fun1(par1,par1)\n",
    "\"\"\"\n"
   ]
  },
  {
   "cell_type": "code",
   "execution_count": 5,
   "metadata": {},
   "outputs": [
    {
     "data": {
      "text/plain": [
       "\"\\n4. What is the difference between a function and a function call?\\nAns::\\nfunction is a piece of code which will run only when we will call\\notherwise won't effect other code\\n\\n\""
      ]
     },
     "execution_count": 5,
     "metadata": {},
     "output_type": "execute_result"
    }
   ],
   "source": [
    "\"\"\"\n",
    "4. What is the difference between a function and a function call?\n",
    "Ans::\n",
    "function is a piece of code which will run only when we will call\n",
    "otherwise won't effect other code\n",
    "\n",
    "\"\"\""
   ]
  },
  {
   "cell_type": "code",
   "execution_count": 1,
   "metadata": {},
   "outputs": [
    {
     "data": {
      "text/plain": [
       "'\\n5. How many global scopes are there in a Python program? How many local scopes?\\n\\nAns:: I think there should be one global scope in the python\\n         and in terms of local scope in the block,class variable can change their scopes \\n         so it is 2 scopes\\n\\n'"
      ]
     },
     "execution_count": 1,
     "metadata": {},
     "output_type": "execute_result"
    }
   ],
   "source": [
    "\"\"\"\n",
    "5. How many global scopes are there in a Python program? How many local scopes?\n",
    "\n",
    "Ans:: I think there should be one global scope in the python\n",
    "         and in terms of local scope in the block,class variable can change their scopes \n",
    "         so it is 2 scopes\n",
    "\n",
    "\"\"\""
   ]
  },
  {
   "cell_type": "code",
   "execution_count": 2,
   "metadata": {},
   "outputs": [
    {
     "data": {
      "text/plain": [
       "'\\n6. What happens to variables in a local scope when the function call returns?\\n\\nin case of return statment value can be change of the variable\\n'"
      ]
     },
     "execution_count": 2,
     "metadata": {},
     "output_type": "execute_result"
    }
   ],
   "source": [
    "\"\"\"\n",
    "6. What happens to variables in a local scope when the function call returns?\n",
    "\n",
    "in case of return statment value can be change of the variable\n",
    "\"\"\""
   ]
  },
  {
   "cell_type": "code",
   "execution_count": 3,
   "metadata": {},
   "outputs": [
    {
     "data": {
      "text/plain": [
       "'\\n7. What is the concept of a return value? Is it possible to have a return value in an expression?\\n\\nreturn value is the value which can be returned by the function and yes expression can have return value\\n'"
      ]
     },
     "execution_count": 3,
     "metadata": {},
     "output_type": "execute_result"
    }
   ],
   "source": [
    "\"\"\"\n",
    "7. What is the concept of a return value? Is it possible to have a return value in an expression?\n",
    "\n",
    "return value is the value which can be returned by the function and yes expression can have return value\n",
    "\"\"\""
   ]
  },
  {
   "cell_type": "code",
   "execution_count": 4,
   "metadata": {},
   "outputs": [
    {
     "data": {
      "text/plain": [
       "\"\\n8. If a function does not have a return statement, what is the return value of a call to that function?\\n\\nif the function hasn't any return value then there won't be any return value of the function\\n\\n\""
      ]
     },
     "execution_count": 4,
     "metadata": {},
     "output_type": "execute_result"
    }
   ],
   "source": [
    "\"\"\"\n",
    "8. If a function does not have a return statement, what is the return value of a call to that function?\n",
    "\n",
    "if the function hasn't any return value then there won't be any return value of the function\n",
    "\n",
    "\"\"\""
   ]
  },
  {
   "cell_type": "code",
   "execution_count": 5,
   "metadata": {},
   "outputs": [
    {
     "data": {
      "text/plain": [
       "'\\n9. How do you make a function variable refer to the global variable?\\n\\nAns:: \\nby using Global keyword\\n'"
      ]
     },
     "execution_count": 5,
     "metadata": {},
     "output_type": "execute_result"
    }
   ],
   "source": [
    "\"\"\"\n",
    "9. How do you make a function variable refer to the global variable?\n",
    "\n",
    "Ans:: \n",
    "by using Global keyword\n",
    "\"\"\""
   ]
  },
  {
   "cell_type": "code",
   "execution_count": 7,
   "metadata": {},
   "outputs": [
    {
     "data": {
      "text/plain": [
       "'\\n10. What is the data type of None?\\n\\nNoneType ==> It means Nothing\\n'"
      ]
     },
     "execution_count": 7,
     "metadata": {},
     "output_type": "execute_result"
    }
   ],
   "source": [
    "\"\"\"\n",
    "10. What is the data type of None?\n",
    "\n",
    "NoneType ==> It means Nothing\n",
    "\"\"\""
   ]
  },
  {
   "cell_type": "code",
   "execution_count": 8,
   "metadata": {},
   "outputs": [
    {
     "data": {
      "text/plain": [
       "'\\n11. What does the sentence import areallyourpetsnamederic do?\\n\\nAns::\\nWill Import the module named as :: areallyourpetsnamederic\\n\\n'"
      ]
     },
     "execution_count": 8,
     "metadata": {},
     "output_type": "execute_result"
    }
   ],
   "source": [
    "\"\"\"\n",
    "11. What does the sentence import areallyourpetsnamederic do?\n",
    "\n",
    "Ans::\n",
    "Will Import the module named as :: areallyourpetsnamederic\n",
    "\n",
    "\"\"\""
   ]
  },
  {
   "cell_type": "code",
   "execution_count": 9,
   "metadata": {},
   "outputs": [
    {
     "data": {
      "text/plain": [
       "'\\n12. If you had a bacon() feature in a spam module, what would you call it after importing spam?\\n\\nAns::\\nif we have bacon() feature in spam module \\nthen we can use \\n\\nimport spam\\n\\nspam.bacon()\\n\\nwill call the bacon() of the spam module\\n\\n'"
      ]
     },
     "execution_count": 9,
     "metadata": {},
     "output_type": "execute_result"
    }
   ],
   "source": [
    "\"\"\"\n",
    "12. If you had a bacon() feature in a spam module, what would you call it after importing spam?\n",
    "\n",
    "Ans::\n",
    "if we have bacon() feature in spam module \n",
    "then we can use \n",
    "\n",
    "import spam\n",
    "\n",
    "spam.bacon()\n",
    "\n",
    "will call the bacon() of the spam module\n",
    "\n",
    "\"\"\""
   ]
  },
  {
   "cell_type": "code",
   "execution_count": 10,
   "metadata": {},
   "outputs": [
    {
     "data": {
      "text/plain": [
       "'\\n13. What can you do to save a programme from crashing if it encounters an error?\\n\\nAns::\\nUse of Exception Handling will stop the program from crashing\\n'"
      ]
     },
     "execution_count": 10,
     "metadata": {},
     "output_type": "execute_result"
    }
   ],
   "source": [
    "\"\"\"\n",
    "13. What can you do to save a programme from crashing if it encounters an error?\n",
    "\n",
    "Ans::\n",
    "Use of Exception Handling will stop the program from crashing\n",
    "\"\"\""
   ]
  },
  {
   "cell_type": "code",
   "execution_count": 11,
   "metadata": {},
   "outputs": [
    {
     "data": {
      "text/plain": [
       "'\\n14. What is the purpose of the try clause? What is the purpose of the except clause?\\nAns::\\n\\nTry:\\n    write all  the suspicious code ex.(5/0)\\nexcept Exception as e:\\n    will handle the suspicious code which is written in Try block\\n'"
      ]
     },
     "execution_count": 11,
     "metadata": {},
     "output_type": "execute_result"
    }
   ],
   "source": [
    "\"\"\"\n",
    "14. What is the purpose of the try clause? What is the purpose of the except clause?\n",
    "Ans::\n",
    "\n",
    "Try:\n",
    "    write all  the suspicious code ex.(5/0)\n",
    "except Exception as e:\n",
    "    will handle the suspicious code which is written in Try block\n",
    "\"\"\""
   ]
  }
 ],
 "metadata": {
  "kernelspec": {
   "display_name": "Python 3",
   "language": "python",
   "name": "python3"
  },
  "language_info": {
   "codemirror_mode": {
    "name": "ipython",
    "version": 3
   },
   "file_extension": ".py",
   "mimetype": "text/x-python",
   "name": "python",
   "nbconvert_exporter": "python",
   "pygments_lexer": "ipython3",
   "version": "3.8.5"
  }
 },
 "nbformat": 4,
 "nbformat_minor": 4
}
