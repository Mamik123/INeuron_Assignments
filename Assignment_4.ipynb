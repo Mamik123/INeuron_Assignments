{
 "cells": [
  {
   "cell_type": "code",
   "execution_count": 2,
   "metadata": {},
   "outputs": [
    {
     "data": {
      "text/plain": [
       "'\\n1. What exactly is []?\\nAns::\\n\\nAn Empty List\\n'"
      ]
     },
     "execution_count": 2,
     "metadata": {},
     "output_type": "execute_result"
    }
   ],
   "source": [
    "\"\"\"\n",
    "1. What exactly is []?\n",
    "Ans::\n",
    "\n",
    "An Empty List\n",
    "\"\"\""
   ]
  },
  {
   "cell_type": "code",
   "execution_count": 5,
   "metadata": {},
   "outputs": [
    {
     "data": {
      "text/plain": [
       "\"\\n2. In a list of values stored in a variable called spam, how would you assign the value 'hello' as the third value? (Assume [2, 4, 6, 8, 10] are in spam.)\\nAns::\\nspam = [2,4,6,8,10]\\nspam[2] = 'hello'\\nspam==> hello will get assign at the specified location\\n\""
      ]
     },
     "execution_count": 5,
     "metadata": {},
     "output_type": "execute_result"
    }
   ],
   "source": [
    "\"\"\"\n",
    "2. In a list of values stored in a variable called spam, how would you assign the value 'hello' as the third value? (Assume [2, 4, 6, 8, 10] are in spam.)\n",
    "Ans::\n",
    "spam = [2,4,6,8,10]\n",
    "spam[2] = 'hello'\n",
    "spam==> hello will get assign at the specified location\n",
    "\"\"\"\n"
   ]
  },
  {
   "cell_type": "code",
   "execution_count": 21,
   "metadata": {},
   "outputs": [
    {
     "data": {
      "text/plain": [
       "['a', 'b']"
      ]
     },
     "execution_count": 21,
     "metadata": {},
     "output_type": "execute_result"
    }
   ],
   "source": [
    "\"\"\"\n",
    "spam = ['a','b','c','d']\n",
    "\n",
    "3. What is the value of spam[int(int('3' * 2) / 11)]?\n",
    "\n",
    "Ans:: spam[int(int('3'*2)/11)] ==> d\n",
    "    spam[-1] ==>d\n",
    "    spam[:2]==> ['a', 'b']\n",
    "\n",
    "\"\"\"\n",
    "\n",
    "spam[:2]"
   ]
  },
  {
   "cell_type": "code",
   "execution_count": 28,
   "metadata": {},
   "outputs": [
    {
     "data": {
      "text/plain": [
       "\"\\nbacon = [3.14, 'cat', 11, 'cat,' True]\\n\\n6. What is the value of bacon.index('cat')?\\n\\nAns:: 1\\n\\n\""
      ]
     },
     "execution_count": 28,
     "metadata": {},
     "output_type": "execute_result"
    }
   ],
   "source": [
    "\"\"\"\n",
    "bacon = [3.14, 'cat', 11, 'cat,' True]\n",
    "\n",
    "6. What is the value of bacon.index('cat')?\n",
    "\n",
    "Ans:: 1\n",
    "\n",
    "\"\"\"\n"
   ]
  },
  {
   "cell_type": "code",
   "execution_count": 29,
   "metadata": {},
   "outputs": [
    {
     "data": {
      "text/plain": [
       "[3.14, 'cat', 11, 'cat', True, 99]"
      ]
     },
     "execution_count": 29,
     "metadata": {},
     "output_type": "execute_result"
    }
   ],
   "source": [
    "\"\"\"\n",
    "7. How does bacon.append(99) change the look of the list value in bacon?\t\n",
    " \n",
    "Ans:: bacon.append(99)==> [3.14, 'cat', 11, 'cat', True, 99]\n",
    "in that manner\n",
    "\n",
    "\"\"\"\n"
   ]
  },
  {
   "cell_type": "code",
   "execution_count": 31,
   "metadata": {},
   "outputs": [
    {
     "data": {
      "text/plain": [
       "\"\\n8. How does bacon.remove('cat') change the look of the list in bacon?\\nAns:: bacon.remove('cat')==>  [3.14, 11, 'cat', True, 99]\\n will change in that manner\\n\""
      ]
     },
     "execution_count": 31,
     "metadata": {},
     "output_type": "execute_result"
    }
   ],
   "source": [
    "\"\"\"\n",
    "8. How does bacon.remove('cat') change the look of the list in bacon?\n",
    "Ans:: bacon.remove('cat')==>  [3.14, 11, 'cat', True, 99]\n",
    " will change in that manner\n",
    "\"\"\""
   ]
  },
  {
   "cell_type": "code",
   "execution_count": 32,
   "metadata": {},
   "outputs": [
    {
     "data": {
      "text/plain": [
       "\"\\n9. What are the list concatenation and list replication operators?\\n\\nlist concatenation ==> [1,2] + ['j','k'] ==> [1,2,'j','k']\\n\\nlist replication ==> [1,2] *2 ==> [1,2,1,2]\\n\""
      ]
     },
     "execution_count": 32,
     "metadata": {},
     "output_type": "execute_result"
    }
   ],
   "source": [
    "\"\"\"\n",
    "9. What are the list concatenation and list replication operators?\n",
    "\n",
    "list concatenation ==> [1,2] + ['j','k'] ==> [1,2,'j','k']\n",
    "\n",
    "list replication ==> [1,2] *2 ==> [1,2,1,2]\n",
    "\"\"\""
   ]
  },
  {
   "cell_type": "code",
   "execution_count": 34,
   "metadata": {},
   "outputs": [
    {
     "data": {
      "text/plain": [
       "'\\n10. What is difference between the list methods append() and insert()?\\n\\nAns::\\nappend()==> this method will add the elements in the end of the list\\n\\nextend()==> this method will insert values in the specified location as per the list\\n'"
      ]
     },
     "execution_count": 34,
     "metadata": {},
     "output_type": "execute_result"
    }
   ],
   "source": [
    "\"\"\"\n",
    "10. What is difference between the list methods append() and insert()?\n",
    "\n",
    "Ans::\n",
    "append()==> this method will add the elements in the end of the list\n",
    "\n",
    "extend()==> this method will insert values in the specified location as per the list\n",
    "\"\"\""
   ]
  },
  {
   "cell_type": "code",
   "execution_count": 35,
   "metadata": {},
   "outputs": [
    {
     "data": {
      "text/plain": [
       "'\\n11. What are the two methods for removing items from a list?\\nAns:: pop(), remove() are the two methods will remove the list elements\\n'"
      ]
     },
     "execution_count": 35,
     "metadata": {},
     "output_type": "execute_result"
    }
   ],
   "source": [
    "\"\"\"\n",
    "11. What are the two methods for removing items from a list?\n",
    "Ans:: pop(), remove() are the two methods will remove the list elements\n",
    "\"\"\""
   ]
  },
  {
   "cell_type": "code",
   "execution_count": 36,
   "metadata": {},
   "outputs": [
    {
     "data": {
      "text/plain": [
       "'\\n12. Describe how list values and string values are identical.\\nAns::\\n\\nlist and string  values can be accessed by index that means both saves values in terms of index\\n'"
      ]
     },
     "execution_count": 36,
     "metadata": {},
     "output_type": "execute_result"
    }
   ],
   "source": [
    "\"\"\"\n",
    "12. Describe how list values and string values are identical.\n",
    "Ans::\n",
    "\n",
    "list and string  values can be accessed by index that means both saves values in terms of index\n",
    "\"\"\""
   ]
  },
  {
   "cell_type": "code",
   "execution_count": 38,
   "metadata": {},
   "outputs": [
    {
     "data": {
      "text/plain": [
       "\"\\n13. What's the difference between tuples and lists?\\nAns::\\nLists are mutable where tuples are immutable \\n\""
      ]
     },
     "execution_count": 38,
     "metadata": {},
     "output_type": "execute_result"
    }
   ],
   "source": [
    "\"\"\"\n",
    "13. What's the difference between tuples and lists?\n",
    "Ans::\n",
    "Lists are mutable where tuples are immutable \n",
    "\"\"\""
   ]
  },
  {
   "cell_type": "code",
   "execution_count": 15,
   "metadata": {},
   "outputs": [
    {
     "data": {
      "text/plain": [
       "'\\n14. How do you type a tuple value that only contains the integer 42?\\nAns::\\nFirst Way\\nz= (33,)\\ntype(z)\\n\\nSecond Way\\nt= [42]\\nt = tuple(t)\\n\\n'"
      ]
     },
     "execution_count": 15,
     "metadata": {},
     "output_type": "execute_result"
    }
   ],
   "source": [
    "\"\"\"\n",
    "14. How do you type a tuple value that only contains the integer 42?\n",
    "Ans::\n",
    "First Way\n",
    "z= (33,)\n",
    "type(z)\n",
    "\n",
    "Second Way\n",
    "t= [42]\n",
    "t = tuple(t)\n",
    "\n",
    "\"\"\"\n",
    "\n",
    "\n"
   ]
  },
  {
   "cell_type": "code",
   "execution_count": 25,
   "metadata": {},
   "outputs": [
    {
     "data": {
      "text/plain": [
       "\"\\n15. How do you get a list value's tuple form? How do you get a tuple value's list form?\\nAns::\\nlist to tuple ::\\n\\nl1 = [3,4]\\nl1 =tuple(l1)\\nl1\\n\\ntuple to list::\\n\\nt = (3,4)\\nt = list(t)\\nt\\n\""
      ]
     },
     "execution_count": 25,
     "metadata": {},
     "output_type": "execute_result"
    }
   ],
   "source": [
    "\"\"\"\n",
    "15. How do you get a list value's tuple form? How do you get a tuple value's list form?\n",
    "Ans::\n",
    "list to tuple ::\n",
    "\n",
    "l1 = [3,4]\n",
    "l1 =tuple(l1)\n",
    "l1\n",
    "\n",
    "tuple to list::\n",
    "\n",
    "t = (3,4)\n",
    "t = list(t)\n",
    "t\n",
    "\"\"\"\n"
   ]
  },
  {
   "cell_type": "code",
   "execution_count": null,
   "metadata": {},
   "outputs": [],
   "source": []
  },
  {
   "cell_type": "code",
   "execution_count": null,
   "metadata": {},
   "outputs": [],
   "source": []
  },
  {
   "cell_type": "code",
   "execution_count": 17,
   "metadata": {},
   "outputs": [
    {
     "data": {
      "text/plain": [
       "'\\n16. Variables that \"contain\" list values are not necessarily lists themselves. Instead, what do they contain?\\n\\nAns:::\\nas we go to defination of the list that says is a kind of Data Structure which holds values of diffrent types which can be manipulate\\n'"
      ]
     },
     "execution_count": 17,
     "metadata": {},
     "output_type": "execute_result"
    }
   ],
   "source": [
    "\"\"\"\n",
    "16. Variables that \"contain\" list values are not necessarily lists themselves. Instead, what do they contain?\n",
    "\n",
    "Ans:::\n",
    "as we go to defination of the list that says is a kind of Data Structure which holds values of diffrent types which can be manipulate\n",
    "\"\"\""
   ]
  },
  {
   "cell_type": "code",
   "execution_count": 16,
   "metadata": {},
   "outputs": [
    {
     "data": {
      "text/plain": [
       "'\\n17. How do you distinguish between copy.copy() and copy.deepcopy()?\\n\\nAns::\\ncopy.copy()==> this statement will change the original value however our purpose is to make a copy not a change\\ncopy.deepcopy()==> will change the copy of the original value\\n\\nin the end i think these are the concepts are deep and shallow copy\\n\\n'"
      ]
     },
     "execution_count": 16,
     "metadata": {},
     "output_type": "execute_result"
    }
   ],
   "source": [
    "\"\"\"\n",
    "17. How do you distinguish between copy.copy() and copy.deepcopy()?\n",
    "\n",
    "Ans::\n",
    "copy.copy()==> this statement will change the original value however our purpose is to make a copy not a change\n",
    "copy.deepcopy()==> will change the copy of the original value\n",
    "\n",
    "in the end i think these are the concepts are deep and shallow copy\n",
    "\n",
    "\"\"\""
   ]
  }
 ],
 "metadata": {
  "kernelspec": {
   "display_name": "Python 3",
   "language": "python",
   "name": "python3"
  },
  "language_info": {
   "codemirror_mode": {
    "name": "ipython",
    "version": 3
   },
   "file_extension": ".py",
   "mimetype": "text/x-python",
   "name": "python",
   "nbconvert_exporter": "python",
   "pygments_lexer": "ipython3",
   "version": "3.8.5"
  }
 },
 "nbformat": 4,
 "nbformat_minor": 4
}
